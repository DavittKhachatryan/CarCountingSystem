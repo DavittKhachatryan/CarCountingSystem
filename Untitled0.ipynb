{
  "nbformat": 4,
  "nbformat_minor": 0,
  "metadata": {
    "colab": {
      "provenance": [],
      "authorship_tag": "ABX9TyO2fjdGMYB21BWb8MvW67Ps",
      "include_colab_link": true
    },
    "kernelspec": {
      "name": "python3",
      "display_name": "Python 3"
    },
    "language_info": {
      "name": "python"
    }
  },
  "cells": [
    {
      "cell_type": "markdown",
      "metadata": {
        "id": "view-in-github",
        "colab_type": "text"
      },
      "source": [
        "<a href=\"https://colab.research.google.com/github/DavittKhachatryan/CarCountingSystem/blob/main/Untitled0.ipynb\" target=\"_parent\"><img src=\"https://colab.research.google.com/assets/colab-badge.svg\" alt=\"Open In Colab\"/></a>"
      ]
    },
    {
      "cell_type": "code",
      "execution_count": 1,
      "metadata": {
        "colab": {
          "base_uri": "https://localhost:8080/"
        },
        "id": "fbcl0QKCPpdS",
        "outputId": "bea42f25-ba38-4074-8151-9d61d3a140d7"
      },
      "outputs": [
        {
          "output_type": "stream",
          "name": "stdout",
          "text": [
            "--2022-12-19 12:21:18--  http://ai.stanford.edu/~jkrause/car196/cars_train.tgz\n",
            "Resolving ai.stanford.edu (ai.stanford.edu)... 171.64.68.10\n",
            "Connecting to ai.stanford.edu (ai.stanford.edu)|171.64.68.10|:80... connected.\n",
            "HTTP request sent, awaiting response... 200 OK\n",
            "Length: 979269282 (934M) [application/x-gzip]\n",
            "Saving to: ‘cars_train.tgz’\n",
            "\n",
            "cars_train.tgz      100%[===================>] 933.90M  90.2MB/s    in 12s     \n",
            "\n",
            "2022-12-19 12:21:30 (79.8 MB/s) - ‘cars_train.tgz’ saved [979269282/979269282]\n",
            "\n"
          ]
        }
      ],
      "source": [
        "!wget http://ai.stanford.edu/~jkrause/car196/cars_train.tgz"
      ]
    },
    {
      "cell_type": "code",
      "source": [
        "!tar -xf ./cars_train.tgz "
      ],
      "metadata": {
        "id": "ggXLpAiAP3Ln"
      },
      "execution_count": 2,
      "outputs": []
    }
  ]
}